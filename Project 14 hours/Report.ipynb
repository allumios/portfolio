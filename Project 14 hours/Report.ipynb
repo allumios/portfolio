{
 "cells": [
  {
   "cell_type": "markdown",
   "id": "fff6dd66-10fa-4777-9814-d4bcba5f200d",
   "metadata": {},
   "source": [
    "# Landing Page Optimization Report\n",
    "\n",
    "## Data Overview\n",
    "\n",
    "The analysis used behavioral and traffic data from the landing page, including the following key parameters:\n",
    "\n",
    "- **Traffic Source** (Email, Meta Ads, Organic)\n",
    "- **Device** (Mobile, Desktop)\n",
    "- **CTA Clicked** (whether the main button was clicked)\n",
    "- **Form Submitted** (final conversion event)\n",
    "- **Time on Page (s)** (engagement duration)\n",
    "- **Avg. Scroll Depth (%)** (how far users scroll)\n",
    "- **Bounce Rate (%)** (early exits)\n",
    "\n",
    "### Key Observations\n",
    "\n",
    "- **Traffic Source Performance**: Email and Organic sources resulted in the highest number of form submissions (4 each), while Meta Ads delivered only 1 submission.\n",
    "- **Engagement**: Users from Email and Organic spent significantly more time on the page (55s and 50s on average) compared to Meta Ads (22s).\n",
    "- **CTA Engagement**: Across all traffic sources, users who clicked the CTA button spent more time on the page than those who did not, suggesting time on site positively impacts likelihood of engagement.\n",
    "- **Scroll Depth & Bounce Rate**: On mobile, there was a strong negative correlation (corr ≈ -0.89) between scroll depth and bounce rate. Deeper scrolls corresponded to lower bounce rates, indicating higher content engagement reduced drop-offs.\n",
    "- **Device Differences**: Engagement patterns differed between mobile and desktop, with mobile showing sharper declines in engagement at low scroll depths.\n",
    "- **User Flow**: A large proportion of users exited before reaching key conversion points, especially those from Meta Ads.\n",
    "\n",
    "## Parameter Influence Summary\n",
    "\n",
    "- **Traffic Source**: Influences both engagement and conversion, with organic and email traffic outperforming paid Meta Ads.\n",
    "- **Time on Page**: Longer durations are associated with higher conversion rates, particularly when paired with CTA interaction.\n",
    "- **Scroll Depth**: Acts as a proxy for user interest; higher scroll depth strongly reduces bounce rate on mobile.\n",
    "- **Device**: Affects both how users interact with the page and where drop-offs occur; requires device-specific UX consideration.\n",
    "\n",
    "---\n",
    "\n",
    "## A/B Test Proposals\n",
    "\n",
    "**Test 1: CTA Button Placement and Size**  \n",
    "Hypothesis: Moving the CTA button to the right side and making it bigger for desktop will increase the CTA click rate, as most users are right-handed and the button becomes more visually prominent.  \n",
    "Variant A: Current layout  \n",
    "Variant B: CTA on the right, larger size  \n",
    "Success metric: CTA click rate  \n",
    "Sample size: At least 100 users per group\n",
    "\n",
    "**Test 2: Homepage Simplification**  \n",
    "Hypothesis: Reducing the number of informational blocks and getting users to the pricing section faster will increase form submits and overall engagement.  \n",
    "Variant A: Current homepage  \n",
    "Variant B: Fewer blocks, quicker path to pricing  \n",
    "Success metrics: Form submit rate, scroll depth  \n",
    "Sample size: At least 100 users per group\n",
    "\n",
    "**Hybrid Test**  \n",
    "Both interventions can be combined into a hybrid test with the updated website (CTA position and page simplification) as Variant A and the original as Variant B.\n",
    "\n",
    "---\n",
    "\n",
    "*This report summarizes landing page user data, highlights the influence of core parameters on conversions, and proposes data-driven experiments to optimize engagement and conversion rates.*\n"
   ]
  },
  {
   "cell_type": "code",
   "execution_count": null,
   "id": "b02cee2d-28f4-4de3-8ab8-e3a775317489",
   "metadata": {},
   "outputs": [],
   "source": []
  }
 ],
 "metadata": {
  "kernelspec": {
   "display_name": "Python [conda env:base] *",
   "language": "python",
   "name": "conda-base-py"
  },
  "language_info": {
   "codemirror_mode": {
    "name": "ipython",
    "version": 3
   },
   "file_extension": ".py",
   "mimetype": "text/x-python",
   "name": "python",
   "nbconvert_exporter": "python",
   "pygments_lexer": "ipython3",
   "version": "3.12.7"
  }
 },
 "nbformat": 4,
 "nbformat_minor": 5
}
